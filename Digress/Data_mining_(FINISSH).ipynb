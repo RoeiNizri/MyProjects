{
  "nbformat": 4,
  "nbformat_minor": 0,
  "metadata": {
    "colab": {
      "provenance": []
    },
    "kernelspec": {
      "name": "python3",
      "display_name": "Python 3"
    },
    "language_info": {
      "name": "python"
    }
  },
  "cells": [
    {
      "cell_type": "code",
      "source": [
        "#import the code from github"
      ],
      "metadata": {
        "id": "rAGK68mkBnHA"
      },
      "execution_count": null,
      "outputs": []
    },
    {
      "cell_type": "code",
      "source": [
        "!git clone https://github.com/cvignac/DiGress.git"
      ],
      "metadata": {
        "id": "tT-7qKEW8o8B",
        "colab": {
          "base_uri": "https://localhost:8080/"
        },
        "outputId": "61e663a6-357d-441c-8ab6-78db2872144b"
      },
      "execution_count": 1,
      "outputs": [
        {
          "output_type": "stream",
          "name": "stdout",
          "text": [
            "Cloning into 'DiGress'...\n",
            "remote: Enumerating objects: 558, done.\u001b[K\n",
            "remote: Counting objects: 100% (300/300), done.\u001b[K\n",
            "remote: Compressing objects: 100% (127/127), done.\u001b[K\n",
            "remote: Total 558 (delta 241), reused 177 (delta 173), pack-reused 258\u001b[K\n",
            "Receiving objects: 100% (558/558), 4.59 MiB | 9.12 MiB/s, done.\n",
            "Resolving deltas: 100% (355/355), done.\n"
          ]
        }
      ]
    },
    {
      "cell_type": "code",
      "source": [
        "!wget https://repo.anaconda.com/miniconda/Miniconda3-latest-Linux-x86_64.sh\n",
        "!bash Miniconda3-latest-Linux-x86_64.sh -bfp /usr/local"
      ],
      "metadata": {
        "id": "MQ1WeNBcNZY2"
      },
      "execution_count": null,
      "outputs": []
    },
    {
      "cell_type": "code",
      "source": [
        "!pip install rdkit"
      ],
      "metadata": {
        "id": "rroytDAzOSIy"
      },
      "execution_count": null,
      "outputs": []
    },
    {
      "cell_type": "code",
      "source": [
        "!pip install -q condacolab\n",
        "!import condacolab\n",
        "!condacolab.install()\n",
        "# could be useless"
      ],
      "metadata": {
        "id": "aFGcZ8G-6C1i"
      },
      "execution_count": null,
      "outputs": []
    },
    {
      "cell_type": "code",
      "source": [
        "!/usr/local/bin/conda create -c conda-forge -n digress rdkit=2023.03.2 python=3.10"
      ],
      "metadata": {
        "id": "knFHyZyJNjlV"
      },
      "execution_count": null,
      "outputs": []
    },
    {
      "cell_type": "code",
      "source": [
        "!source activate digress"
      ],
      "metadata": {
        "id": "W8iWk0rfN9Os"
      },
      "execution_count": null,
      "outputs": []
    },
    {
      "cell_type": "code",
      "source": [
        "!python3 -c 'from rdkit import Chem'"
      ],
      "metadata": {
        "id": "kd_6UFTdOnf4"
      },
      "execution_count": null,
      "outputs": []
    },
    {
      "cell_type": "code",
      "source": [
        "!conda install -c conda-forge graph-tool=2.45 python=3.10"
      ],
      "metadata": {
        "id": "B5DxsJtkOvF9"
      },
      "execution_count": null,
      "outputs": []
    },
    {
      "cell_type": "code",
      "source": [
        "!python3 -c 'import graph_tool as gt'"
      ],
      "metadata": {
        "id": "rFg2A0hSUDqS"
      },
      "execution_count": null,
      "outputs": []
    },
    {
      "cell_type": "code",
      "source": [
        "!conda install -c \"nvidia/label/cuda-11.8.0\" cuda"
      ],
      "metadata": {
        "id": "7gTPPEo49o09",
        "colab": {
          "base_uri": "https://localhost:8080/"
        },
        "outputId": "b872f480-9b6b-48d0-b0db-9731989b170c"
      },
      "execution_count": null,
      "outputs": [
        {
          "output_type": "stream",
          "name": "stdout",
          "text": [
            "\n",
            "CondaError: KeyboardInterrupt\n",
            "\n"
          ]
        }
      ]
    },
    {
      "cell_type": "code",
      "source": [
        "!pip3 install torch==2.0.1 --index-url https://download.pytorch.org/whl/cu118"
      ],
      "metadata": {
        "id": "ehYrEs0J-8kP"
      },
      "execution_count": null,
      "outputs": []
    },
    {
      "cell_type": "code",
      "source": [
        "%cd /content/DiGress"
      ],
      "metadata": {
        "id": "j3zCNOm1_pBN",
        "colab": {
          "base_uri": "https://localhost:8080/"
        },
        "outputId": "c4bebdaf-06b0-48ec-e563-ee3b66f3794d"
      },
      "execution_count": null,
      "outputs": [
        {
          "output_type": "stream",
          "name": "stdout",
          "text": [
            "/content/DiGress\n"
          ]
        }
      ]
    },
    {
      "cell_type": "code",
      "source": [
        "!pip install -r requirements.txt"
      ],
      "metadata": {
        "id": "gSCxL5oN_ym4"
      },
      "execution_count": null,
      "outputs": []
    },
    {
      "cell_type": "code",
      "source": [
        "%cd /content/DiGress"
      ],
      "metadata": {
        "id": "CMu5IZh3CMAh",
        "colab": {
          "base_uri": "https://localhost:8080/"
        },
        "outputId": "affb0101-9903-4fe0-9039-0407b7a3f85a"
      },
      "execution_count": null,
      "outputs": [
        {
          "output_type": "stream",
          "name": "stdout",
          "text": [
            "/content/DiGress\n"
          ]
        }
      ]
    },
    {
      "cell_type": "code",
      "source": [
        "!pip install -e ."
      ],
      "metadata": {
        "id": "Qzpn4ggqCgNy",
        "colab": {
          "base_uri": "https://localhost:8080/"
        },
        "outputId": "0c825736-22b6-4945-f47b-0ff178bce196"
      },
      "execution_count": null,
      "outputs": [
        {
          "output_type": "stream",
          "name": "stdout",
          "text": [
            "Obtaining file:///content/DiGress\n",
            "  Preparing metadata (setup.py) ... \u001b[?25l\u001b[?25hdone\n",
            "Installing collected packages: DiGress\n",
            "  Attempting uninstall: DiGress\n",
            "    Found existing installation: DiGress 1.0.1\n",
            "    Uninstalling DiGress-1.0.1:\n",
            "      Successfully uninstalled DiGress-1.0.1\n",
            "  Running setup.py develop for DiGress\n",
            "Successfully installed DiGress-1.0.1\n",
            "\u001b[33mWARNING: Running pip as the 'root' user can result in broken permissions and conflicting behaviour with the system package manager. It is recommended to use a virtual environment instead: https://pip.pypa.io/warnings/venv\u001b[0m\u001b[33m\n",
            "\u001b[0m"
          ]
        }
      ]
    },
    {
      "cell_type": "code",
      "source": [
        "%cd /content/DiGress/src/analysis/orca"
      ],
      "metadata": {
        "id": "9eJWeYOOCk7g",
        "colab": {
          "base_uri": "https://localhost:8080/"
        },
        "outputId": "38e9d127-a9bf-4256-a27a-010503e18577"
      },
      "execution_count": null,
      "outputs": [
        {
          "output_type": "stream",
          "name": "stdout",
          "text": [
            "/content/DiGress/src/analysis/orca\n"
          ]
        }
      ]
    },
    {
      "cell_type": "code",
      "source": [
        "!g++ -O2 -std=c++11 -o orca orca.cpp"
      ],
      "metadata": {
        "id": "3WJ46LKAC6L6",
        "colab": {
          "base_uri": "https://localhost:8080/"
        },
        "outputId": "2dc00603-2e0b-4e27-80ca-cdb39b32ab35"
      },
      "execution_count": null,
      "outputs": [
        {
          "output_type": "stream",
          "name": "stdout",
          "text": [
            "\u001b[01m\u001b[Korca.cpp:\u001b[m\u001b[K In function ‘\u001b[01m\u001b[Kint writeResults(int, const char*)\u001b[m\u001b[K’:\n",
            "\u001b[01m\u001b[Korca.cpp:1357:1:\u001b[m\u001b[K \u001b[01;35m\u001b[Kwarning: \u001b[m\u001b[Kcontrol reaches end of non-void function [\u001b[01;35m\u001b[K\u001b]8;;https://gcc.gnu.org/onlinedocs/gcc/Warning-Options.html#index-Wreturn-type\u0007-Wreturn-type\u001b]8;;\u0007\u001b[m\u001b[K]\n",
            " 1357 | \u001b[01;35m\u001b[K}\u001b[m\u001b[K\n",
            "      | \u001b[01;35m\u001b[K^\u001b[m\u001b[K\n",
            "\u001b[01m\u001b[Korca.cpp:\u001b[m\u001b[K In function ‘\u001b[01m\u001b[Kint writeEdgeResults(int, const char*)\u001b[m\u001b[K’:\n",
            "\u001b[01m\u001b[Korca.cpp:1388:1:\u001b[m\u001b[K \u001b[01;35m\u001b[Kwarning: \u001b[m\u001b[Kcontrol reaches end of non-void function [\u001b[01;35m\u001b[K\u001b]8;;https://gcc.gnu.org/onlinedocs/gcc/Warning-Options.html#index-Wreturn-type\u0007-Wreturn-type\u001b]8;;\u0007\u001b[m\u001b[K]\n",
            " 1388 | \u001b[01;35m\u001b[K}\u001b[m\u001b[K\n",
            "      | \u001b[01;35m\u001b[K^\u001b[m\u001b[K\n"
          ]
        }
      ]
    },
    {
      "cell_type": "code",
      "source": [
        "%cd /content/DiGress/src\n",
        "!python main.py"
      ],
      "metadata": {
        "colab": {
          "base_uri": "https://localhost:8080/"
        },
        "id": "JM1Tl3OU-wti",
        "outputId": "1b1fb3b6-9731-467a-f6d7-149d1852a223"
      },
      "execution_count": null,
      "outputs": [
        {
          "output_type": "stream",
          "name": "stdout",
          "text": [
            "/content/DiGress/src\n",
            "Traceback (most recent call last):\n",
            "  File \"/content/DiGress/src/main.py\", line 1, in <module>\n",
            "    import graph_tool as gt\n",
            "ModuleNotFoundError: No module named 'graph_tool'\n"
          ]
        }
      ]
    }
  ]
}